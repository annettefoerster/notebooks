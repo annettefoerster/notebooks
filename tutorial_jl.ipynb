{
 "metadata": {
  "language": "Julia",
  "name": "",
  "signature": "sha256:d3e069456b8de20d5e80a095d65f0c763becb9b254f2bdab9f42e4c9b3cd7dd9"
 },
 "nbformat": 3,
 "nbformat_minor": 0,
 "worksheets": [
  {
   "cells": [
    {
     "cell_type": "heading",
     "level": 1,
     "metadata": {},
     "source": [
      "Basics"
     ]
    },
    {
     "cell_type": "markdown",
     "metadata": {},
     "source": [
      "Julia documentation: http://docs.julialang.org/en/release-0.3/"
     ]
    },
    {
     "cell_type": "markdown",
     "metadata": {},
     "source": [
      "IJulia Module: https://github.com/JuliaLang/IJulia.jl"
     ]
    },
    {
     "cell_type": "markdown",
     "metadata": {},
     "source": [
      "NetCDF Module: https://github.com/meggart/NetCDF.jl"
     ]
    },
    {
     "cell_type": "markdown",
     "metadata": {},
     "source": [
      "PyPlot: https://github.com/stevengj/PyPlot.jl, matplotlib tutorial (in python): http://matplotlib.org/users/pyplot_tutorial.html\n"
     ]
    },
    {
     "cell_type": "code",
     "collapsed": false,
     "input": [
      "a = \"Hello \"\n",
      "b = \"world!\"\n",
      "println(a*b)"
     ],
     "language": "python",
     "metadata": {},
     "outputs": [
      {
       "output_type": "stream",
       "stream": "stdout",
       "text": [
        "Hello world!\n"
       ]
      }
     ],
     "prompt_number": 80
    },
    {
     "cell_type": "heading",
     "level": 1,
     "metadata": {},
     "source": [
      "Functions"
     ]
    },
    {
     "cell_type": "markdown",
     "metadata": {},
     "source": [
      "Simple functions may be defined with a nice mathematical syntax."
     ]
    },
    {
     "cell_type": "code",
     "collapsed": false,
     "input": [
      "f(x) = 2x^2\n",
      "f(2)"
     ],
     "language": "python",
     "metadata": {},
     "outputs": [
      {
       "metadata": {},
       "output_type": "pyout",
       "prompt_number": 31,
       "text": [
        "8"
       ]
      }
     ],
     "prompt_number": 31
    },
    {
     "cell_type": "code",
     "collapsed": false,
     "input": [
      "function g(x::Number)\n",
      "    if x >=3\n",
      "        result = 4\n",
      "    elseif x <-3\n",
      "        result = -4\n",
      "    else\n",
      "        result = 2\n",
      "    end\n",
      "    #return result\n",
      "end"
     ],
     "language": "python",
     "metadata": {},
     "outputs": [
      {
       "metadata": {},
       "output_type": "pyout",
       "prompt_number": 129,
       "text": [
        "g (generic function with 2 methods)"
       ]
      }
     ],
     "prompt_number": 129
    },
    {
     "cell_type": "code",
     "collapsed": false,
     "input": [
      "g(-5)"
     ],
     "language": "python",
     "metadata": {},
     "outputs": [
      {
       "metadata": {},
       "output_type": "pyout",
       "prompt_number": 130,
       "text": [
        "-4"
       ]
      }
     ],
     "prompt_number": 130
    },
    {
     "cell_type": "heading",
     "level": 1,
     "metadata": {},
     "source": [
      "Arrays"
     ]
    },
    {
     "cell_type": "code",
     "collapsed": false,
     "input": [
      "a = [1,2,3]"
     ],
     "language": "python",
     "metadata": {},
     "outputs": [
      {
       "metadata": {},
       "output_type": "pyout",
       "prompt_number": 131,
       "text": [
        "3-element Array{Int64,1}:\n",
        " 1\n",
        " 2\n",
        " 3"
       ]
      }
     ],
     "prompt_number": 131
    },
    {
     "cell_type": "code",
     "collapsed": false,
     "input": [
      "for i in a\n",
      "    println(\"Element is \", i)\n",
      "end"
     ],
     "language": "python",
     "metadata": {},
     "outputs": [
      {
       "output_type": "stream",
       "stream": "stdout",
       "text": [
        "Element is 1"
       ]
      },
      {
       "output_type": "stream",
       "stream": "stdout",
       "text": [
        "\n",
        "Element is 2\n",
        "Element is 3\n"
       ]
      }
     ],
     "prompt_number": 132
    },
    {
     "cell_type": "code",
     "collapsed": false,
     "input": [
      "b = [1:2:10]\n",
      "\n",
      "function print_content(a::Array)\n",
      "    for i in a\n",
      "        println(\"Element is \", i)\n",
      "    end\n",
      "end\n",
      "\n",
      "print_content(b)"
     ],
     "language": "python",
     "metadata": {},
     "outputs": [
      {
       "output_type": "stream",
       "stream": "stdout",
       "text": [
        "Element is 1"
       ]
      },
      {
       "output_type": "stream",
       "stream": "stdout",
       "text": [
        "\n",
        "Element is 3\n",
        "Element is 5\n",
        "Element is 7\n",
        "Element is 9\n"
       ]
      }
     ],
     "prompt_number": 133
    },
    {
     "cell_type": "code",
     "collapsed": false,
     "input": [
      "c = eye(3)\n",
      "d = ones(Float64,(3,3)) .*3.0\n",
      "\n",
      "println(c)\n",
      "println(d)"
     ],
     "language": "python",
     "metadata": {},
     "outputs": [
      {
       "output_type": "stream",
       "stream": "stdout",
       "text": [
        "[1"
       ]
      },
      {
       "output_type": "stream",
       "stream": "stdout",
       "text": [
        ".0 0.0 0.0\n",
        " 0.0 1.0 0.0\n",
        " 0.0 0.0 1.0]\n",
        "[3.0 3.0 3.0\n",
        " 3.0 3.0 3.0\n",
        " 3.0 3.0 3.0]\n"
       ]
      }
     ],
     "prompt_number": 134
    },
    {
     "cell_type": "code",
     "collapsed": false,
     "input": [
      "e = rand(3)"
     ],
     "language": "python",
     "metadata": {},
     "outputs": [
      {
       "metadata": {},
       "output_type": "pyout",
       "prompt_number": 135,
       "text": [
        "3-element Array{Float64,1}:\n",
        " 0.157305\n",
        " 0.188752\n",
        " 0.295408"
       ]
      }
     ],
     "prompt_number": 135
    },
    {
     "cell_type": "code",
     "collapsed": false,
     "input": [
      "c*e"
     ],
     "language": "python",
     "metadata": {},
     "outputs": [
      {
       "metadata": {},
       "output_type": "pyout",
       "prompt_number": 136,
       "text": [
        "3-element Array{Float64,1}:\n",
        " 0.157305\n",
        " 0.188752\n",
        " 0.295408"
       ]
      }
     ],
     "prompt_number": 136
    },
    {
     "cell_type": "code",
     "collapsed": false,
     "input": [
      "d.*c"
     ],
     "language": "python",
     "metadata": {},
     "outputs": [
      {
       "metadata": {},
       "output_type": "pyout",
       "prompt_number": 137,
       "text": [
        "3x3 Array{Float64,2}:\n",
        " 3.0  0.0  0.0\n",
        " 0.0  3.0  0.0\n",
        " 0.0  0.0  3.0"
       ]
      }
     ],
     "prompt_number": 137
    },
    {
     "cell_type": "heading",
     "level": 1,
     "metadata": {},
     "source": [
      "Everything is a function (multiple dispatch)"
     ]
    },
    {
     "cell_type": "code",
     "collapsed": false,
     "input": [
      "methods(.*);"
     ],
     "language": "python",
     "metadata": {},
     "outputs": [],
     "prompt_number": 138
    },
    {
     "cell_type": "code",
     "collapsed": false,
     "input": [
      "methodswith(Array);"
     ],
     "language": "python",
     "metadata": {},
     "outputs": [],
     "prompt_number": 139
    },
    {
     "cell_type": "code",
     "collapsed": false,
     "input": [
      "?ones"
     ],
     "language": "python",
     "metadata": {},
     "outputs": [
      {
       "output_type": "stream",
       "stream": "stdout",
       "text": [
        "Base.ones(type, dims)\n",
        "\n",
        "   Create an array of all ones of specified type\n"
       ]
      }
     ],
     "prompt_number": 140
    },
    {
     "cell_type": "heading",
     "level": 1,
     "metadata": {},
     "source": [
      "System commands"
     ]
    },
    {
     "cell_type": "code",
     "collapsed": false,
     "input": [
      ";pwd"
     ],
     "language": "python",
     "metadata": {},
     "outputs": [
      {
       "output_type": "stream",
       "stream": "stdout",
       "text": [
        "/Users/foerster/Research/Notebooks/notebooks\n"
       ]
      }
     ],
     "prompt_number": 145
    },
    {
     "cell_type": "code",
     "collapsed": false,
     "input": [
      "b = readall(`ls`)"
     ],
     "language": "python",
     "metadata": {},
     "outputs": [
      {
       "metadata": {},
       "output_type": "pyout",
       "prompt_number": 142,
       "text": [
        "\"README.md\\nloops_jl.ipynb\\nrankine_balanced_jl.ipynb\\nread_ncfile_jl.ipynb\\ntestfigure.pdf\\ntutorial_jl.ipynb\\n\""
       ]
      }
     ],
     "prompt_number": 142
    },
    {
     "cell_type": "code",
     "collapsed": false,
     "input": [
      "entries = Set(split(b,\"\\n\"))\n"
     ],
     "language": "python",
     "metadata": {},
     "outputs": [
      {
       "metadata": {},
       "output_type": "pyout",
       "prompt_number": 143,
       "text": [
        "Set{SubString{ASCIIString}}({\"rankine_balanced_jl.ipynb\",\"tutorial_jl.ipynb\",\"read_ncfile_jl.ipynb\",\"loops_jl.ipynb\",\"README.md\",\"\",\"testfigure.pdf\"})"
       ]
      }
     ],
     "prompt_number": 143
    },
    {
     "cell_type": "code",
     "collapsed": false,
     "input": [
      "delete!(entries,\"\")"
     ],
     "language": "python",
     "metadata": {},
     "outputs": [
      {
       "metadata": {},
       "output_type": "pyout",
       "prompt_number": 144,
       "text": [
        "Set{SubString{ASCIIString}}({\"rankine_balanced_jl.ipynb\",\"tutorial_jl.ipynb\",\"read_ncfile_jl.ipynb\",\"loops_jl.ipynb\",\"README.md\",\"testfigure.pdf\"})"
       ]
      }
     ],
     "prompt_number": 144
    },
    {
     "cell_type": "code",
     "collapsed": false,
     "input": [],
     "language": "python",
     "metadata": {},
     "outputs": []
    }
   ],
   "metadata": {}
  }
 ]
}