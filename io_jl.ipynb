{
 "metadata": {
  "language": "Julia",
  "name": "",
  "signature": "sha256:a9ea275584f1f468d6af32dff8eeda149f995fbef1b1e106dbd069c1d8a9c52f"
 },
 "nbformat": 3,
 "nbformat_minor": 0,
 "worksheets": [
  {
   "cells": [
    {
     "cell_type": "heading",
     "level": 1,
     "metadata": {},
     "source": [
      "Read/Write Text File"
     ]
    },
    {
     "cell_type": "heading",
     "level": 3,
     "metadata": {},
     "source": [
      "Reading"
     ]
    },
    {
     "cell_type": "code",
     "collapsed": false,
     "input": [
      "filein = \"./input.dat\"\n",
      "\n",
      "input = open(filein,\"r\")\n",
      "data = readlines(input)"
     ],
     "language": "python",
     "metadata": {},
     "outputs": [
      {
       "metadata": {},
       "output_type": "pyout",
       "prompt_number": 1,
       "text": [
        "7-element Array{Union(ASCIIString,UTF8String),1}:\n",
        " \"This is the first line.\\n\" \n",
        " \"This is the second line.\\n\"\n",
        " \"This is the third line.\\n\" \n",
        " \"\\n\"                        \n",
        " \"2014 10 24 14 340 \\n\"      \n",
        " \"2014 10 25 16 280\\n\"       \n",
        " \"2014 14 26  8 310\\n\"       "
       ]
      }
     ],
     "prompt_number": 1
    },
    {
     "cell_type": "code",
     "collapsed": false,
     "input": [
      "data[7]    ### Indexing starts at 1, not at 0 !!!"
     ],
     "language": "python",
     "metadata": {},
     "outputs": [
      {
       "metadata": {},
       "output_type": "pyout",
       "prompt_number": 2,
       "text": [
        "\"2014 14 26  8 310\\n\""
       ]
      }
     ],
     "prompt_number": 2
    },
    {
     "cell_type": "code",
     "collapsed": false,
     "input": [
      "split(data[7])"
     ],
     "language": "python",
     "metadata": {},
     "outputs": [
      {
       "metadata": {},
       "output_type": "pyout",
       "prompt_number": 3,
       "text": [
        "5-element Array{SubString{ASCIIString},1}:\n",
        " \"2014\"\n",
        " \"14\"  \n",
        " \"26\"  \n",
        " \"8\"   \n",
        " \"310\" "
       ]
      }
     ],
     "prompt_number": 3
    },
    {
     "cell_type": "code",
     "collapsed": false,
     "input": [
      "split(data[7])[3]"
     ],
     "language": "python",
     "metadata": {},
     "outputs": [
      {
       "metadata": {},
       "output_type": "pyout",
       "prompt_number": 4,
       "text": [
        "\"26\""
       ]
      }
     ],
     "prompt_number": 4
    },
    {
     "cell_type": "code",
     "collapsed": false,
     "input": [
      "float64(split(data[7])[3]) + 3.0"
     ],
     "language": "python",
     "metadata": {},
     "outputs": [
      {
       "metadata": {},
       "output_type": "pyout",
       "prompt_number": 5,
       "text": [
        "29.0"
       ]
      }
     ],
     "prompt_number": 5
    },
    {
     "cell_type": "heading",
     "level": 3,
     "metadata": {},
     "source": [
      "Writing"
     ]
    },
    {
     "cell_type": "code",
     "collapsed": false,
     "input": [
      "\"This is a test\"\n",
      "\n",
      "output = open(\"output.dat\",\"w\")\n",
      "write(output,\"This is a test \\n\")\n",
      "write(output,\"And one more line, just to make sure ...\\n\")"
     ],
     "language": "python",
     "metadata": {},
     "outputs": [
      {
       "metadata": {},
       "output_type": "pyout",
       "prompt_number": 6,
       "text": [
        "41"
       ]
      }
     ],
     "prompt_number": 6
    },
    {
     "cell_type": "code",
     "collapsed": false,
     "input": [
      "close(output)"
     ],
     "language": "python",
     "metadata": {},
     "outputs": [],
     "prompt_number": 7
    },
    {
     "cell_type": "heading",
     "level": 3,
     "metadata": {},
     "source": [
      "Appending"
     ]
    },
    {
     "cell_type": "code",
     "collapsed": false,
     "input": [
      "output = open(\"output.dat\",\"a\")\n",
      "write(output,\"This should be the third line.\\n\")"
     ],
     "language": "python",
     "metadata": {},
     "outputs": [
      {
       "metadata": {},
       "output_type": "pyout",
       "prompt_number": 8,
       "text": [
        "31"
       ]
      }
     ],
     "prompt_number": 8
    },
    {
     "cell_type": "code",
     "collapsed": false,
     "input": [
      "close(output)"
     ],
     "language": "python",
     "metadata": {},
     "outputs": [],
     "prompt_number": 9
    },
    {
     "cell_type": "code",
     "collapsed": false,
     "input": [
      "#= \n",
      "There are also spectial functions \n",
      "that can output arrays ...\n",
      "=#"
     ],
     "language": "python",
     "metadata": {},
     "outputs": [],
     "prompt_number": 10
    },
    {
     "cell_type": "heading",
     "level": 1,
     "metadata": {},
     "source": [
      "Read/Write NetCDF-Files"
     ]
    },
    {
     "cell_type": "heading",
     "level": 3,
     "metadata": {},
     "source": [
      "Writing"
     ]
    },
    {
     "cell_type": "code",
     "collapsed": false,
     "input": [
      "import NetCDF"
     ],
     "language": "python",
     "metadata": {},
     "outputs": [],
     "prompt_number": 11
    },
    {
     "cell_type": "code",
     "collapsed": false,
     "input": [
      "#whos(NetCDF)"
     ],
     "language": "python",
     "metadata": {},
     "outputs": [],
     "prompt_number": 12
    },
    {
     "cell_type": "code",
     "collapsed": false,
     "input": [
      "filename = \"./netcdf_out.nc\""
     ],
     "language": "python",
     "metadata": {},
     "outputs": [
      {
       "metadata": {},
       "output_type": "pyout",
       "prompt_number": 13,
       "text": [
        "\"./netcdf_out.nc\""
       ]
      }
     ],
     "prompt_number": 13
    },
    {
     "cell_type": "markdown",
     "metadata": {},
     "source": [
      "Define the dimensions"
     ]
    },
    {
     "cell_type": "code",
     "collapsed": false,
     "input": [
      "x = [10:1:19]\n",
      "y = [20:1:29]\n",
      "xatts = {\"long_name\" => \"x (longitude)\", \"units\" => \"km\", \"missing_value\" => -999, \"_FillValue\" => -999}\n",
      "yatts = {\"long_name\" => \"y (latitude)\",  \"units\" => \"km\", \"missing_value\" => -999, \"_FillValue\" => -999}\n",
      "x_dim = NetCDF.NcDim(\"x\",x,xatts)\n",
      "y_dim = NetCDF.NcDim(\"y\",y,yatts)"
     ],
     "language": "python",
     "metadata": {},
     "outputs": [
      {
       "metadata": {},
       "output_type": "pyout",
       "prompt_number": 14,
       "text": [
        "NcDim(-1,-1,-1,\"y\",10,[20,21,22,23,24,25,26,27,28,29],{\"units\"=>\"km\",\"missing_value\"=>-999,\"long_name\"=>\"y (latitude)\",\"_FillValue\"=>-999})"
       ]
      }
     ],
     "prompt_number": 14
    },
    {
     "cell_type": "markdown",
     "metadata": {},
     "source": [
      "Allocate space for the variables and save the data"
     ]
    },
    {
     "cell_type": "code",
     "collapsed": false,
     "input": [
      "ncvars = NetCDF.NcVar[]\n",
      "\n",
      "u = ones(10,10) .* 5\n",
      "v = rand(10,10) .* 2\n",
      "uatts = {\"long_name\" => \"u wind component\", \"units\" => \"m s-1\", \"missing_value\" => -999, \"_FillValue\" => -999}\n",
      "vatts = {\"long_name\" => \"v wind component\", \"units\" => \"m s-1\", \"missing_value\" => -999, \"_FillValue\" => -999}\n",
      "\n",
      "uvar = NetCDF.NcVar(\"u\",[x_dim,y_dim],uatts,Float64)\n",
      "vvar = NetCDF.NcVar(\"v\",[x_dim,y_dim],vatts,Float64)\n",
      "\n",
      "push!(ncvars,uvar)\n",
      "push!(ncvars,vvar)\n",
      "\n",
      "nc = NetCDF.create(filename,ncvars)\n",
      "\n",
      "\n",
      "NetCDF.putvar(nc,\"u\",u) \n",
      "NetCDF.putvar(nc,\"v\",v)\n",
      "NetCDF.close(nc)\n",
      "\n",
      "\n",
      "### Error 13 usually means the nc-file already exists. Delete the file and try again."
     ],
     "language": "python",
     "metadata": {},
     "outputs": [
      {
       "metadata": {},
       "output_type": "pyout",
       "prompt_number": 15,
       "text": [
        "65536"
       ]
      }
     ],
     "prompt_number": 15
    },
    {
     "cell_type": "heading",
     "level": 3,
     "metadata": {},
     "source": [
      "Reading"
     ]
    },
    {
     "cell_type": "code",
     "collapsed": false,
     "input": [
      "#;ncdump \"./netcdf_out.nc\"\n",
      "#NetCDF.ncinfo(filename)"
     ],
     "language": "python",
     "metadata": {},
     "outputs": [],
     "prompt_number": 16
    },
    {
     "cell_type": "code",
     "collapsed": false,
     "input": [
      "u_in = NetCDF.ncread (filename, \"u\")\n"
     ],
     "language": "python",
     "metadata": {},
     "outputs": [
      {
       "output_type": "stream",
       "stream": "stderr",
       "text": [
        "WARNING: ccall Ptr argument types must now match exactly, or be Ptr{Void}.\n",
        " in _nc_inq_var_c at /Users/foerster/.julia/v0.3/NetCDF/src/netcdf_c_wrappers.jl:117\n",
        " in _ncv_inq at /Users/foerster/.julia/v0.3/NetCDF/src/netcdf_helpers.jl:150\n",
        " in open at /Users/foerster/.julia/v0.3/NetCDF/src/NetCDF.jl:333\n",
        " in ncread at /Users/foerster/.julia/v0.3/NetCDF/src/NetCDF.jl:354\n",
        " in include_string at loading.jl:97\n",
        " in execute_request_0x535c5df2 at /Users/foerster/.julia/v0.3/IJulia/src/execute_request.jl:145\n",
        " in eventloop at /Users/foerster/.julia/v0.3/IJulia/src/IJulia.jl:115\n",
        " in anonymous at task.jl:340\n",
        "WARNING: ccall Ptr argument types must now match exactly, or be Ptr{Void}.\n",
        " in _nc_inq_var_c at /Users/foerster/.julia/v0.3/NetCDF/src/netcdf_c_wrappers.jl:117\n",
        " in _ncv_inq at /Users/foerster/.julia/v0.3/NetCDF/src/netcdf_helpers.jl:150\n",
        " in open at /Users/foerster/.julia/v0.3/NetCDF/src/NetCDF.jl:333\n",
        " in ncread at /Users/foerster/.julia/v0.3/NetCDF/src/NetCDF.jl:354\n",
        " in include_string at loading.jl:97\n",
        " in execute_request_0x535c5df2 at /Users/foerster/.julia/v0.3/IJulia/src/execute_request.jl:145\n",
        " in eventloop at /Users/foerster/.julia/v0.3/IJulia/src/IJulia.jl:115\n",
        " in anonymous at task.jl:340\n"
       ]
      },
      {
       "output_type": "stream",
       "stream": "stderr",
       "text": [
        "WARNING: ccall Ptr argument types must now match exactly, or be Ptr{Void}.\n",
        " in _nc_inq_var_c at /Users/foerster/.julia/v0.3/NetCDF/src/netcdf_c_wrappers.jl:117\n",
        " in _ncv_inq at /Users/foerster/.julia/v0.3/NetCDF/src/netcdf_helpers.jl:150\n",
        " in open at /Users/foerster/.julia/v0.3/NetCDF/src/NetCDF.jl:333\n",
        " in ncread at /Users/foerster/.julia/v0.3/NetCDF/src/NetCDF.jl:354\n",
        " in include_string at loading.jl:97\n",
        " in execute_request_0x535c5df2 at /Users/foerster/.julia/v0.3/IJulia/src/execute_request.jl:145\n",
        " in eventloop at /Users/foerster/.julia/v0.3/IJulia/src/IJulia.jl:115\n",
        " in anonymous at task.jl:340\n",
        "WARNING: ccall Ptr argument types must now match exactly, or be Ptr{Void}.\n",
        " in _nc_inq_var_c at /Users/foerster/.julia/v0.3/NetCDF/src/netcdf_c_wrappers.jl:117\n",
        " in _ncv_inq at /Users/foerster/.julia/v0.3/NetCDF/src/netcdf_helpers.jl:150\n",
        " in open at /Users/foerster/.julia/v0.3/NetCDF/src/NetCDF.jl:333\n",
        " in ncread at /Users/foerster/.julia/v0.3/NetCDF/src/NetCDF.jl:354\n",
        " in include_string at loading.jl:97\n",
        " in execute_request_0x535c5df2 at /Users/foerster/.julia/v0.3/IJulia/src/execute_request.jl:145\n",
        " in eventloop at /Users/foerster/.julia/v0.3/IJulia/src/IJulia.jl:115\n",
        " in anonymous at task.jl:340\n"
       ]
      },
      {
       "metadata": {},
       "output_type": "pyout",
       "prompt_number": 17,
       "text": [
        "10x10 Array{Float64,2}:\n",
        " 5.0  5.0  5.0  5.0  5.0  5.0  5.0  5.0  5.0  5.0\n",
        " 5.0  5.0  5.0  5.0  5.0  5.0  5.0  5.0  5.0  5.0\n",
        " 5.0  5.0  5.0  5.0  5.0  5.0  5.0  5.0  5.0  5.0\n",
        " 5.0  5.0  5.0  5.0  5.0  5.0  5.0  5.0  5.0  5.0\n",
        " 5.0  5.0  5.0  5.0  5.0  5.0  5.0  5.0  5.0  5.0\n",
        " 5.0  5.0  5.0  5.0  5.0  5.0  5.0  5.0  5.0  5.0\n",
        " 5.0  5.0  5.0  5.0  5.0  5.0  5.0  5.0  5.0  5.0\n",
        " 5.0  5.0  5.0  5.0  5.0  5.0  5.0  5.0  5.0  5.0\n",
        " 5.0  5.0  5.0  5.0  5.0  5.0  5.0  5.0  5.0  5.0\n",
        " 5.0  5.0  5.0  5.0  5.0  5.0  5.0  5.0  5.0  5.0"
       ]
      }
     ],
     "prompt_number": 17
    },
    {
     "cell_type": "code",
     "collapsed": false,
     "input": [
      "include(\"./include_file.txt\")"
     ],
     "language": "python",
     "metadata": {},
     "outputs": [
      {
       "output_type": "stream",
       "stream": "stdout",
       "text": [
        "The sum of r and s is: 6"
       ]
      },
      {
       "output_type": "stream",
       "stream": "stdout",
       "text": [
        "\n"
       ]
      }
     ],
     "prompt_number": 18
    },
    {
     "cell_type": "code",
     "collapsed": false,
     "input": [
      ";more \"./include_file.txt\""
     ],
     "language": "python",
     "metadata": {},
     "outputs": [
      {
       "output_type": "stream",
       "stream": "stdout",
       "text": [
        "r = 4\n",
        "s = 2.5\n",
        "t = r+2\n",
        "println(\"The sum of r and s is: \", t)\n"
       ]
      }
     ],
     "prompt_number": 19
    },
    {
     "cell_type": "code",
     "collapsed": false,
     "input": [],
     "language": "python",
     "metadata": {},
     "outputs": []
    }
   ],
   "metadata": {}
  }
 ]
}