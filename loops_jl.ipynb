{
 "metadata": {
  "language": "Julia",
  "name": "",
  "signature": "sha256:6491a1bbe303a90e176debec6f8ac80b3d4ee7136cb10f13de669aa3f747fc35"
 },
 "nbformat": 3,
 "nbformat_minor": 0,
 "worksheets": [
  {
   "cells": [
    {
     "cell_type": "heading",
     "level": 1,
     "metadata": {},
     "source": [
      "For loop"
     ]
    },
    {
     "cell_type": "code",
     "collapsed": false,
     "input": [
      "for i in [1:2:9]\n",
      "    println(\"Element value is: \", i)\n",
      "end\n"
     ],
     "language": "python",
     "metadata": {},
     "outputs": [
      {
       "output_type": "stream",
       "stream": "stdout",
       "text": [
        "Element value is: 1"
       ]
      },
      {
       "output_type": "stream",
       "stream": "stdout",
       "text": [
        "\n",
        "Element value is: 3\n",
        "Element value is: 5\n",
        "Element value is: 7\n",
        "Element value is: 9\n"
       ]
      }
     ],
     "prompt_number": 11
    },
    {
     "cell_type": "code",
     "collapsed": false,
     "input": [
      "a = [0:5:25]\n",
      "c = zeros(Float64,size(a))\n",
      "\n",
      "for (index,value) in enumerate(a)\n",
      "    println(value, \" at position \", index)\n",
      "    c[index] = value*2 + index\n",
      "end"
     ],
     "language": "python",
     "metadata": {},
     "outputs": [
      {
       "output_type": "stream",
       "stream": "stdout",
       "text": [
        "0 at position "
       ]
      },
      {
       "output_type": "stream",
       "stream": "stdout",
       "text": [
        "1\n",
        "5 at position 2\n",
        "10 at position 3\n",
        "15 at position 4\n",
        "20 at position 5\n",
        "25 at position 6\n"
       ]
      }
     ],
     "prompt_number": 12
    },
    {
     "cell_type": "code",
     "collapsed": false,
     "input": [
      "a = [1:2:20]\n",
      "b = [1:1:10]\n",
      "\n",
      "for (i,j) in zip(a,b)\n",
      "    if (i>15 || j>15)\n",
      "        println(\"value over 15 (i=\",i,\",j=\",j,\")\")\n",
      "        \n",
      "    end\n",
      "end"
     ],
     "language": "python",
     "metadata": {},
     "outputs": [
      {
       "output_type": "stream",
       "stream": "stdout",
       "text": [
        "value over 15 (i=17,j=9)\n",
        "value over 15 (i=19,j=10)\n"
       ]
      }
     ],
     "prompt_number": 3
    },
    {
     "cell_type": "code",
     "collapsed": false,
     "input": [
      "d = Dict()\n",
      "d[\"long_name\"] = \"wind speed\"\n",
      "d[\"units\"] = \"m/s\"\n",
      "d[\"data\"] = [1,2,3,4,5]\n",
      "\n",
      "for (key,value) in d\n",
      "    println(key,\" => \", value)\n",
      "end"
     ],
     "language": "python",
     "metadata": {},
     "outputs": [
      {
       "output_type": "stream",
       "stream": "stdout",
       "text": [
        "units => m/s\n",
        "long_name => wind speed\n",
        "data => "
       ]
      },
      {
       "output_type": "stream",
       "stream": "stdout",
       "text": [
        "[1,2,3,4,5]\n"
       ]
      }
     ],
     "prompt_number": 4
    },
    {
     "cell_type": "heading",
     "level": 1,
     "metadata": {},
     "source": [
      "While loop"
     ]
    },
    {
     "cell_type": "code",
     "collapsed": false,
     "input": [
      "i=0\n",
      "while i < 5\n",
      "    println(i, \" is smaller than 10\")\n",
      "    i +=1\n",
      "end"
     ],
     "language": "python",
     "metadata": {},
     "outputs": [
      {
       "output_type": "stream",
       "stream": "stdout",
       "text": [
        "0 is smaller than 10\n",
        "1 is smaller than 10\n",
        "2 is smaller than 10\n",
        "3 is smaller than 10\n",
        "4 is smaller than 10\n"
       ]
      }
     ],
     "prompt_number": 5
    },
    {
     "cell_type": "heading",
     "level": 1,
     "metadata": {},
     "source": [
      "If statement"
     ]
    },
    {
     "cell_type": "code",
     "collapsed": false,
     "input": [
      "x=55\n",
      "\n",
      "if x >=3\n",
      "    println(\"If\")\n",
      "elseif x <-3\n",
      "    println(\"Elseif\")\n",
      "else\n",
      "    println(\"else\")\n",
      "end\n"
     ],
     "language": "python",
     "metadata": {},
     "outputs": [
      {
       "output_type": "stream",
       "stream": "stdout",
       "text": [
        "If\n"
       ]
      }
     ],
     "prompt_number": 6
    },
    {
     "cell_type": "code",
     "collapsed": false,
     "input": [
      "b = (x<10 ? 4 : 8)       ### Ternary operator"
     ],
     "language": "python",
     "metadata": {},
     "outputs": [
      {
       "metadata": {},
       "output_type": "pyout",
       "prompt_number": 7,
       "text": [
        "8"
       ]
      }
     ],
     "prompt_number": 7
    },
    {
     "cell_type": "code",
     "collapsed": false,
     "input": [
      "r=3; s=7;\n",
      "t = (r>1 && println(\"short if statement\"))\n",
      "    "
     ],
     "language": "python",
     "metadata": {},
     "outputs": [
      {
       "output_type": "stream",
       "stream": "stdout",
       "text": [
        "short if statement"
       ]
      },
      {
       "output_type": "stream",
       "stream": "stdout",
       "text": [
        "\n"
       ]
      }
     ],
     "prompt_number": 8
    },
    {
     "cell_type": "code",
     "collapsed": false,
     "input": [],
     "language": "python",
     "metadata": {},
     "outputs": [],
     "prompt_number": 9
    }
   ],
   "metadata": {}
  }
 ]
}