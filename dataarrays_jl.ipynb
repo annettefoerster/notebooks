{
 "metadata": {
  "language": "Julia",
  "name": "",
  "signature": "sha256:f30626c2d4383fb37ff351b5eb0610a34a94009fc7c7f8bfd27519bd4daae2e6"
 },
 "nbformat": 3,
 "nbformat_minor": 0,
 "worksheets": [
  {
   "cells": [
    {
     "cell_type": "code",
     "collapsed": false,
     "input": [
      "using DataArrays"
     ],
     "language": "python",
     "metadata": {},
     "outputs": [],
     "prompt_number": 1
    },
    {
     "cell_type": "code",
     "collapsed": false,
     "input": [
      "#whos(DataArrays)"
     ],
     "language": "python",
     "metadata": {},
     "outputs": [],
     "prompt_number": 77
    },
    {
     "cell_type": "code",
     "collapsed": false,
     "input": [
      "dv = DataArray(rand(3,3), falses(3,3))\n",
      "dv[2,2] = NA\n",
      "println(dv)\n",
      "println(sum(each_dropna(dv))/8.0)\n",
      "println(mean(each_dropna(dv)))\n",
      "println(mean(dv))\n",
      "println(mean(dv,skipna=true))\n",
      "println(maximum(each_dropna(dv)))\n",
      "println(minimum(each_dropna(dv)))\n",
      "println(mean(dropna(dv[:,1])))\n",
      "println(mean(dropna(dv[:,2])))\n",
      "println(mean(dropna(dv[:,3])))\n",
      "println(3/8*mean(dropna(dv[:,3]))+2/8*mean(dropna(dv[:,2]))+3/8*mean(dropna(dv[:,1])))\n"
     ],
     "language": "python",
     "metadata": {},
     "outputs": [
      {
       "output_type": "stream",
       "stream": "stdout",
       "text": [
        "[0."
       ]
      },
      {
       "output_type": "stream",
       "stream": "stdout",
       "text": [
        "23505571190126506 0.0015908340449326541 0.725290289322398\n",
        " 0.7370299356000141 NA 0.4138908831491288\n",
        " 0.8235630532996763 0.12283222408210515 0.29983325814891115]\n",
        "0.4198857736935539\n",
        "0.4198857736935539\n",
        "NA\n",
        "0.4198857736935539\n",
        "0.8235630532996763\n",
        "0.0015908340449326541\n",
        "0.5985495669336518\n",
        "0.0622115290635189\n",
        "0.47967147687347933\n",
        "0.4198857736935539\n"
       ]
      }
     ],
     "prompt_number": 108
    },
    {
     "cell_type": "code",
     "collapsed": false,
     "input": [
      "function replace_NA(a::DataArray,new)\n",
      "    b =ones(size(a)).*-999\n",
      "    dims = size(a)\n",
      "    rank = length(dims)\n",
      "    if rank == 1\n",
      "        for i in [1:1:dims[1]]\n",
      "            b[i] = (isna(a[i]) ? new : a[i])\n",
      "        end\n",
      "    elseif rank == 2\n",
      "        for i in [1:1:dims[1]]\n",
      "            for j in [1:1:dims[2]]\n",
      "                b[i,j] = (isna(a[i,j]) ? new : a[i,j])\n",
      "            end\n",
      "        end\n",
      "    elseif rank == 3\n",
      "        for i in [1:1:dims[1]]\n",
      "            for j in [1:1:dims[2]]\n",
      "                for k in [1:1:dims[3]]\n",
      "                    b[i,j,k] = (isna(a[i,j,k]) ? new : a[i,j,k])\n",
      "                end\n",
      "            end\n",
      "        end\n",
      "    else\n",
      "        println(\"Can't replace NA, array has too many dimensions ... error!\") \n",
      "    end\n",
      "    \n",
      "    return b \n",
      "end\n",
      "\n",
      "dv = DataArray(rand(3,3), falses(3,3))\n",
      "dv[2,2] = NA\n",
      "println(dv)\n",
      "println(\"----------------------------------------------------------- \")\n",
      "dv_new = replace_NA(dv,-999)"
     ],
     "language": "python",
     "metadata": {},
     "outputs": [
      {
       "output_type": "stream",
       "stream": "stdout",
       "text": [
        "[0."
       ]
      },
      {
       "output_type": "stream",
       "stream": "stdout",
       "text": [
        "5022311562375976 0.3759267732333107 0.0407460732833691\n",
        " 0.5357871279968407 NA 0.6982013979096935\n",
        " 0.8748798605475856 0.12418485255001266 0.9281894175675764]\n",
        "----------------------------------------------------------- \n"
       ]
      },
      {
       "metadata": {},
       "output_type": "pyout",
       "prompt_number": 124,
       "text": [
        "3x3 Array{Float64,2}:\n",
        " 0.502231     0.375927  0.0407461\n",
        " 0.535787  -999.0       0.698201 \n",
        " 0.87488      0.124185  0.928189 "
       ]
      }
     ],
     "prompt_number": 124
    },
    {
     "cell_type": "code",
     "collapsed": false,
     "input": [
      "include (\"/Users/foerster/Research/Programming/julia/ncutils.jl\")\n",
      "filein =  \"/Users/foerster/Research/Development/thermo/20050920_18.nc\""
     ],
     "language": "python",
     "metadata": {},
     "outputs": []
    },
    {
     "cell_type": "code",
     "collapsed": false,
     "input": [
      "#; ncdump -h $filein"
     ],
     "language": "python",
     "metadata": {},
     "outputs": [],
     "prompt_number": 65
    },
    {
     "cell_type": "code",
     "collapsed": false,
     "input": [
      "vars = [\"x\",\"y\",\"z\",\"u\",\"dudx\",\"r\"]\n",
      "x,y,z,u,dudx,r = read_nc_var(filein,vars);"
     ],
     "language": "python",
     "metadata": {},
     "outputs": [],
     "prompt_number": 13
    },
    {
     "cell_type": "code",
     "collapsed": false,
     "input": [
      "import PyPlot \n",
      "plt = PyPlot\n",
      "\n",
      "size_array = 10\n",
      "dv_plot = DataArray(rand(size_array,size_array), falses(size_array,size_array))\n",
      "dv_plot[4,4] = NA\n",
      "dv_plot_new = replace_NA(dv_plot,-999)\n",
      "\n",
      "plt.figure(figsize=(4,3))\n",
      "plt.contourf([1:1:size_array],[1:1:size_array],dv_plot_new,[0:0.1:1])\n",
      "plt.colorbar()"
     ],
     "language": "python",
     "metadata": {},
     "outputs": [
      {
       "metadata": {},
       "output_type": "display_data",
       "png": "[encoded data removed]",
       "text": [
        "Figure(PyObject <matplotlib.figure.Figure object at 0x11ed7b990>)"
       ]
      },
      {
       "metadata": {},
       "output_type": "pyout",
       "prompt_number": 157,
       "text": [
        "PyObject <matplotlib.colorbar.Colorbar instance at 0x11efb3998>"
       ]
      }
     ],
     "prompt_number": 157
    },
    {
     "cell_type": "code",
     "collapsed": false,
     "input": [],
     "language": "python",
     "metadata": {},
     "outputs": []
    }
   ],
   "metadata": {}
  }
 ]
}